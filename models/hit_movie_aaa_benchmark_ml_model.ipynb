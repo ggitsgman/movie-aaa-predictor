{
 "cells": [
  {
   "cell_type": "code",
   "execution_count": 1,
   "metadata": {},
   "outputs": [
    {
     "name": "stdout",
     "output_type": "stream",
     "text": [
      "Requirement already satisfied: matplotlib in c:\\users\\g_man\\appdata\\local\\programs\\python\\python311\\lib\\site-packages (3.10.0)\n",
      "Requirement already satisfied: contourpy>=1.0.1 in c:\\users\\g_man\\appdata\\local\\programs\\python\\python311\\lib\\site-packages (from matplotlib) (1.3.1)\n",
      "Requirement already satisfied: cycler>=0.10 in c:\\users\\g_man\\appdata\\local\\programs\\python\\python311\\lib\\site-packages (from matplotlib) (0.12.1)\n",
      "Requirement already satisfied: fonttools>=4.22.0 in c:\\users\\g_man\\appdata\\local\\programs\\python\\python311\\lib\\site-packages (from matplotlib) (4.55.8)\n",
      "Requirement already satisfied: kiwisolver>=1.3.1 in c:\\users\\g_man\\appdata\\local\\programs\\python\\python311\\lib\\site-packages (from matplotlib) (1.4.8)\n",
      "Requirement already satisfied: numpy>=1.23 in c:\\users\\g_man\\appdata\\local\\programs\\python\\python311\\lib\\site-packages (from matplotlib) (1.26.2)\n",
      "Requirement already satisfied: packaging>=20.0 in c:\\users\\g_man\\appdata\\roaming\\python\\python311\\site-packages (from matplotlib) (24.2)\n",
      "Requirement already satisfied: pillow>=8 in c:\\users\\g_man\\appdata\\local\\programs\\python\\python311\\lib\\site-packages (from matplotlib) (11.1.0)\n",
      "Requirement already satisfied: pyparsing>=2.3.1 in c:\\users\\g_man\\appdata\\local\\programs\\python\\python311\\lib\\site-packages (from matplotlib) (3.2.1)\n",
      "Requirement already satisfied: python-dateutil>=2.7 in c:\\users\\g_man\\appdata\\local\\programs\\python\\python311\\lib\\site-packages (from matplotlib) (2.8.2)\n",
      "Requirement already satisfied: six>=1.5 in c:\\users\\g_man\\appdata\\local\\programs\\python\\python311\\lib\\site-packages (from python-dateutil>=2.7->matplotlib) (1.16.0)\n"
     ]
    },
    {
     "name": "stderr",
     "output_type": "stream",
     "text": [
      "\n",
      "[notice] A new release of pip is available: 24.2 -> 25.0\n",
      "[notice] To update, run: python.exe -m pip install --upgrade pip\n"
     ]
    },
    {
     "name": "stdout",
     "output_type": "stream",
     "text": [
      "Requirement already satisfied: seaborn in c:\\users\\g_man\\appdata\\local\\programs\\python\\python311\\lib\\site-packages (0.13.2)\n",
      "Requirement already satisfied: numpy!=1.24.0,>=1.20 in c:\\users\\g_man\\appdata\\local\\programs\\python\\python311\\lib\\site-packages (from seaborn) (1.26.2)\n",
      "Requirement already satisfied: pandas>=1.2 in c:\\users\\g_man\\appdata\\local\\programs\\python\\python311\\lib\\site-packages (from seaborn) (2.1.3)\n",
      "Requirement already satisfied: matplotlib!=3.6.1,>=3.4 in c:\\users\\g_man\\appdata\\local\\programs\\python\\python311\\lib\\site-packages (from seaborn) (3.10.0)\n",
      "Requirement already satisfied: contourpy>=1.0.1 in c:\\users\\g_man\\appdata\\local\\programs\\python\\python311\\lib\\site-packages (from matplotlib!=3.6.1,>=3.4->seaborn) (1.3.1)\n",
      "Requirement already satisfied: cycler>=0.10 in c:\\users\\g_man\\appdata\\local\\programs\\python\\python311\\lib\\site-packages (from matplotlib!=3.6.1,>=3.4->seaborn) (0.12.1)\n",
      "Requirement already satisfied: fonttools>=4.22.0 in c:\\users\\g_man\\appdata\\local\\programs\\python\\python311\\lib\\site-packages (from matplotlib!=3.6.1,>=3.4->seaborn) (4.55.8)\n",
      "Requirement already satisfied: kiwisolver>=1.3.1 in c:\\users\\g_man\\appdata\\local\\programs\\python\\python311\\lib\\site-packages (from matplotlib!=3.6.1,>=3.4->seaborn) (1.4.8)\n",
      "Requirement already satisfied: packaging>=20.0 in c:\\users\\g_man\\appdata\\roaming\\python\\python311\\site-packages (from matplotlib!=3.6.1,>=3.4->seaborn) (24.2)\n",
      "Requirement already satisfied: pillow>=8 in c:\\users\\g_man\\appdata\\local\\programs\\python\\python311\\lib\\site-packages (from matplotlib!=3.6.1,>=3.4->seaborn) (11.1.0)\n",
      "Requirement already satisfied: pyparsing>=2.3.1 in c:\\users\\g_man\\appdata\\local\\programs\\python\\python311\\lib\\site-packages (from matplotlib!=3.6.1,>=3.4->seaborn) (3.2.1)\n",
      "Requirement already satisfied: python-dateutil>=2.7 in c:\\users\\g_man\\appdata\\local\\programs\\python\\python311\\lib\\site-packages (from matplotlib!=3.6.1,>=3.4->seaborn) (2.8.2)\n",
      "Requirement already satisfied: pytz>=2020.1 in c:\\users\\g_man\\appdata\\local\\programs\\python\\python311\\lib\\site-packages (from pandas>=1.2->seaborn) (2023.3.post1)\n",
      "Requirement already satisfied: tzdata>=2022.1 in c:\\users\\g_man\\appdata\\local\\programs\\python\\python311\\lib\\site-packages (from pandas>=1.2->seaborn) (2023.3)\n",
      "Requirement already satisfied: six>=1.5 in c:\\users\\g_man\\appdata\\local\\programs\\python\\python311\\lib\\site-packages (from python-dateutil>=2.7->matplotlib!=3.6.1,>=3.4->seaborn) (1.16.0)\n"
     ]
    },
    {
     "name": "stderr",
     "output_type": "stream",
     "text": [
      "\n",
      "[notice] A new release of pip is available: 24.2 -> 25.0\n",
      "[notice] To update, run: python.exe -m pip install --upgrade pip\n"
     ]
    },
    {
     "name": "stdout",
     "output_type": "stream",
     "text": [
      "Requirement already satisfied: pandas in c:\\users\\g_man\\appdata\\local\\programs\\python\\python311\\lib\\site-packages (2.1.3)\n",
      "Requirement already satisfied: numpy<2,>=1.23.2 in c:\\users\\g_man\\appdata\\local\\programs\\python\\python311\\lib\\site-packages (from pandas) (1.26.2)\n",
      "Requirement already satisfied: python-dateutil>=2.8.2 in c:\\users\\g_man\\appdata\\local\\programs\\python\\python311\\lib\\site-packages (from pandas) (2.8.2)\n",
      "Requirement already satisfied: pytz>=2020.1 in c:\\users\\g_man\\appdata\\local\\programs\\python\\python311\\lib\\site-packages (from pandas) (2023.3.post1)\n",
      "Requirement already satisfied: tzdata>=2022.1 in c:\\users\\g_man\\appdata\\local\\programs\\python\\python311\\lib\\site-packages (from pandas) (2023.3)\n",
      "Requirement already satisfied: six>=1.5 in c:\\users\\g_man\\appdata\\local\\programs\\python\\python311\\lib\\site-packages (from python-dateutil>=2.8.2->pandas) (1.16.0)\n"
     ]
    },
    {
     "name": "stderr",
     "output_type": "stream",
     "text": [
      "\n",
      "[notice] A new release of pip is available: 24.2 -> 25.0\n",
      "[notice] To update, run: python.exe -m pip install --upgrade pip\n"
     ]
    },
    {
     "name": "stdout",
     "output_type": "stream",
     "text": [
      "Requirement already satisfied: numpy in c:\\users\\g_man\\appdata\\local\\programs\\python\\python311\\lib\\site-packages (1.26.2)\n"
     ]
    },
    {
     "name": "stderr",
     "output_type": "stream",
     "text": [
      "\n",
      "[notice] A new release of pip is available: 24.2 -> 25.0\n",
      "[notice] To update, run: python.exe -m pip install --upgrade pip\n"
     ]
    },
    {
     "name": "stdout",
     "output_type": "stream",
     "text": [
      "Requirement already satisfied: pyspark in c:\\users\\g_man\\appdata\\local\\programs\\python\\python311\\lib\\site-packages (3.5.4)\n",
      "Requirement already satisfied: py4j==0.10.9.7 in c:\\users\\g_man\\appdata\\local\\programs\\python\\python311\\lib\\site-packages (from pyspark) (0.10.9.7)\n"
     ]
    },
    {
     "name": "stderr",
     "output_type": "stream",
     "text": [
      "\n",
      "[notice] A new release of pip is available: 24.2 -> 25.0\n",
      "[notice] To update, run: python.exe -m pip install --upgrade pip\n",
      "ERROR: Could not find a version that satisfies the requirement sklit-learn (from versions: none)\n",
      "\n",
      "[notice] A new release of pip is available: 24.2 -> 25.0\n",
      "[notice] To update, run: python.exe -m pip install --upgrade pip\n",
      "ERROR: No matching distribution found for sklit-learn\n"
     ]
    }
   ],
   "source": [
    "!pip install matplotlib\n",
    "!pip install seaborn\n",
    "!pip install pandas\n",
    "!pip install numpy\n",
    "!pip install pyspark\n",
    "!pip install scikit-learn"
   ]
  },
  {
   "cell_type": "code",
   "execution_count": 2,
   "metadata": {},
   "outputs": [
    {
     "name": "stdout",
     "output_type": "stream",
     "text": [
      "      tconst titleType                   primaryTitle  isAdult  releaseYear  \\\n",
      "0  tt0000009     movie                     Miss Jerry        0         1894   \n",
      "1  tt0000147     movie  The Corbett-Fitzsimmons Fight        0         1897   \n",
      "2  tt0000574     movie    The Story of the Kelly Gang        0         1906   \n",
      "3  tt0000591     movie               The Prodigal Son        0         1907   \n",
      "4  tt0000615     movie             Robbery Under Arms        0         1907   \n",
      "\n",
      "   releaseMonth releaseDate  runtime_consolidated  imdb_averageRating  \\\n",
      "0            10  1894-10-08                  45.0                 5.4   \n",
      "1             1  1897-01-01                 100.0                 5.3   \n",
      "2            12  1906-12-26                  70.0                 6.0   \n",
      "3             6  1907-06-19                  90.0                 5.6   \n",
      "4            10  1907-10-01                  60.0                 4.3   \n",
      "\n",
      "   imdb_numVotes  ...  bayesian_averageRating  profit_ratio  \\\n",
      "0          218.0  ...                6.033430           0.0   \n",
      "1          548.0  ...                6.007749           0.0   \n",
      "2          969.0  ...                6.041644           0.0   \n",
      "3           30.0  ...                6.046211           0.0   \n",
      "4           27.0  ...                6.042341           0.0   \n",
      "\n",
      "   normalized_profit_impact  log_votes  log_popularity  \\\n",
      "0                       0.5   5.402677        0.558472   \n",
      "1                       0.5   6.343880        0.810930   \n",
      "2                       0.5   6.906755        1.150572   \n",
      "3                       0.5   3.433987        0.470004   \n",
      "4                       0.5   3.367296        0.470004   \n",
      "\n",
      "  normalized_bayesian_averageRating normalized_log_votes  \\\n",
      "0                          0.603343             0.362066   \n",
      "1                          0.600775             0.425141   \n",
      "2                          0.604164             0.462863   \n",
      "3                          0.604621             0.230132   \n",
      "4                          0.604234             0.225663   \n",
      "\n",
      "  normalized_popularity normalized_score aaa_index  \n",
      "0              0.000250         0.453420  4.616837  \n",
      "1              0.000417         0.474229  5.134630  \n",
      "2              0.000721         0.489156  5.470080  \n",
      "3              0.000200         0.407877  3.192487  \n",
      "4              0.000200         0.406119  3.126437  \n",
      "\n",
      "[5 rows x 32 columns]\n",
      "tconst                                object\n",
      "titleType                             object\n",
      "primaryTitle                          object\n",
      "isAdult                                int64\n",
      "releaseYear                            int64\n",
      "releaseMonth                           int64\n",
      "releaseDate                           object\n",
      "runtime_consolidated                 float64\n",
      "imdb_averageRating                   float64\n",
      "imdb_numVotes                        float64\n",
      "tmdb_averageRating                   float64\n",
      "tmdb_numVotes                          int64\n",
      "revenue                                int64\n",
      "budget                                 int64\n",
      "popularity                           float64\n",
      "overview                              object\n",
      "tagline                               object\n",
      "genres                                object\n",
      "production_companies                  object\n",
      "keywords                              object\n",
      "weighted_averageRating               float64\n",
      "total_numVotes                       float64\n",
      "bayesian_averageRating               float64\n",
      "profit_ratio                         float64\n",
      "normalized_profit_impact             float64\n",
      "log_votes                            float64\n",
      "log_popularity                       float64\n",
      "normalized_bayesian_averageRating    float64\n",
      "normalized_log_votes                 float64\n",
      "normalized_popularity                float64\n",
      "normalized_score                     float64\n",
      "aaa_index                            float64\n",
      "dtype: object\n"
     ]
    }
   ],
   "source": [
    "import pandas as pd\n",
    "import numpy as np\n",
    "import matplotlib.pyplot as plt\n",
    "import seaborn as sns\n",
    "\n",
    "movie_path = '../data/movies_data.csv'\n",
    "\n",
    "movies_df = pd.read_csv(\n",
    "    movie_path,\n",
    "    low_memory=False\n",
    ")\n",
    "\n",
    "print(movies_df.head())\n",
    "print(movies_df.dtypes)"
   ]
  },
  {
   "cell_type": "code",
   "execution_count": 5,
   "metadata": {},
   "outputs": [
    {
     "name": "stdout",
     "output_type": "stream",
     "text": [
      "Accuracy: 0.9971361024083649\n",
      "              precision    recall  f1-score   support\n",
      "\n",
      "           0       1.00      1.00      1.00     51423\n",
      "           1       0.93      0.81      0.87       604\n",
      "\n",
      "    accuracy                           1.00     52027\n",
      "   macro avg       0.97      0.91      0.93     52027\n",
      "weighted avg       1.00      1.00      1.00     52027\n",
      "\n"
     ]
    }
   ],
   "source": [
    "from sklearn.linear_model import LogisticRegression\n",
    "from sklearn.model_selection import train_test_split\n",
    "from sklearn.preprocessing import StandardScaler\n",
    "\n",
    "# Benchmark setting\n",
    "Q1 = movies_df['aaa_index'].quantile(0.25)\n",
    "Q3 = movies_df['aaa_index'].quantile(0.75)\n",
    "IQR = Q3 - Q1\n",
    "\n",
    "upper_bound = Q3 + 1.5 * IQR\n",
    "\n",
    "benchmark = upper_bound\n",
    "\n",
    "movies_df['hit_movie'] = (movies_df['aaa_index'] > benchmark).astype(int)\n",
    "\n",
    "features = [\n",
    "    'normalized_bayesian_averageRating',\n",
    "    'normalized_log_votes',\n",
    "    'normalized_popularity',\n",
    "    'releaseMonth'\n",
    "]\n",
    "\n",
    "X = movies_df[features]\n",
    "y = movies_df['hit_movie']\n",
    "\n",
    "from sklearn.model_selection import train_test_split\n",
    "X_train, X_test, y_train, y_test = train_test_split(X, y, test_size=0.2, random_state=42)\n",
    "\n",
    "from sklearn.linear_model import LogisticRegression\n",
    "clf = LogisticRegression()\n",
    "clf.fit(X_train, y_train)\n",
    "\n",
    "y_pred_prob = clf.predict_proba(X_test)[:, 1]\n",
    "\n",
    "from sklearn.metrics import accuracy_score, classification_report\n",
    "y_pred = clf.predict(X_test)\n",
    "accuracy = accuracy_score(y_test, y_pred)\n",
    "\n",
    "print(f'Accuracy: {accuracy}')\n",
    "print(classification_report(y_test, y_pred))"
   ]
  }
 ],
 "metadata": {
  "kernelspec": {
   "display_name": "Python 3",
   "language": "python",
   "name": "python3"
  },
  "language_info": {
   "codemirror_mode": {
    "name": "ipython",
    "version": 3
   },
   "file_extension": ".py",
   "mimetype": "text/x-python",
   "name": "python",
   "nbconvert_exporter": "python",
   "pygments_lexer": "ipython3",
   "version": "3.11.5"
  }
 },
 "nbformat": 4,
 "nbformat_minor": 2
}
