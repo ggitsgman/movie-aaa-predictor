{
 "cells": [
  {
   "cell_type": "code",
   "execution_count": 9,
   "metadata": {},
   "outputs": [
    {
     "name": "stdout",
     "output_type": "stream",
     "text": [
      "Requirement already satisfied: matplotlib in c:\\users\\g_man\\appdata\\local\\programs\\python\\python311\\lib\\site-packages (3.10.0)\n",
      "Requirement already satisfied: contourpy>=1.0.1 in c:\\users\\g_man\\appdata\\local\\programs\\python\\python311\\lib\\site-packages (from matplotlib) (1.3.1)\n",
      "Requirement already satisfied: cycler>=0.10 in c:\\users\\g_man\\appdata\\local\\programs\\python\\python311\\lib\\site-packages (from matplotlib) (0.12.1)\n",
      "Requirement already satisfied: fonttools>=4.22.0 in c:\\users\\g_man\\appdata\\local\\programs\\python\\python311\\lib\\site-packages (from matplotlib) (4.55.8)\n",
      "Requirement already satisfied: kiwisolver>=1.3.1 in c:\\users\\g_man\\appdata\\local\\programs\\python\\python311\\lib\\site-packages (from matplotlib) (1.4.8)\n",
      "Requirement already satisfied: numpy>=1.23 in c:\\users\\g_man\\appdata\\local\\programs\\python\\python311\\lib\\site-packages (from matplotlib) (1.26.2)\n",
      "Requirement already satisfied: packaging>=20.0 in c:\\users\\g_man\\appdata\\roaming\\python\\python311\\site-packages (from matplotlib) (24.2)\n",
      "Requirement already satisfied: pillow>=8 in c:\\users\\g_man\\appdata\\local\\programs\\python\\python311\\lib\\site-packages (from matplotlib) (11.1.0)\n",
      "Requirement already satisfied: pyparsing>=2.3.1 in c:\\users\\g_man\\appdata\\local\\programs\\python\\python311\\lib\\site-packages (from matplotlib) (3.2.1)\n",
      "Requirement already satisfied: python-dateutil>=2.7 in c:\\users\\g_man\\appdata\\local\\programs\\python\\python311\\lib\\site-packages (from matplotlib) (2.8.2)\n",
      "Requirement already satisfied: six>=1.5 in c:\\users\\g_man\\appdata\\local\\programs\\python\\python311\\lib\\site-packages (from python-dateutil>=2.7->matplotlib) (1.16.0)\n"
     ]
    },
    {
     "name": "stderr",
     "output_type": "stream",
     "text": [
      "\n",
      "[notice] A new release of pip is available: 24.2 -> 25.0\n",
      "[notice] To update, run: python.exe -m pip install --upgrade pip\n"
     ]
    },
    {
     "name": "stdout",
     "output_type": "stream",
     "text": [
      "Requirement already satisfied: seaborn in c:\\users\\g_man\\appdata\\local\\programs\\python\\python311\\lib\\site-packages (0.13.2)\n",
      "Requirement already satisfied: numpy!=1.24.0,>=1.20 in c:\\users\\g_man\\appdata\\local\\programs\\python\\python311\\lib\\site-packages (from seaborn) (1.26.2)\n",
      "Requirement already satisfied: pandas>=1.2 in c:\\users\\g_man\\appdata\\local\\programs\\python\\python311\\lib\\site-packages (from seaborn) (2.1.3)\n",
      "Requirement already satisfied: matplotlib!=3.6.1,>=3.4 in c:\\users\\g_man\\appdata\\local\\programs\\python\\python311\\lib\\site-packages (from seaborn) (3.10.0)\n",
      "Requirement already satisfied: contourpy>=1.0.1 in c:\\users\\g_man\\appdata\\local\\programs\\python\\python311\\lib\\site-packages (from matplotlib!=3.6.1,>=3.4->seaborn) (1.3.1)\n",
      "Requirement already satisfied: cycler>=0.10 in c:\\users\\g_man\\appdata\\local\\programs\\python\\python311\\lib\\site-packages (from matplotlib!=3.6.1,>=3.4->seaborn) (0.12.1)\n",
      "Requirement already satisfied: fonttools>=4.22.0 in c:\\users\\g_man\\appdata\\local\\programs\\python\\python311\\lib\\site-packages (from matplotlib!=3.6.1,>=3.4->seaborn) (4.55.8)\n",
      "Requirement already satisfied: kiwisolver>=1.3.1 in c:\\users\\g_man\\appdata\\local\\programs\\python\\python311\\lib\\site-packages (from matplotlib!=3.6.1,>=3.4->seaborn) (1.4.8)\n",
      "Requirement already satisfied: packaging>=20.0 in c:\\users\\g_man\\appdata\\roaming\\python\\python311\\site-packages (from matplotlib!=3.6.1,>=3.4->seaborn) (24.2)\n",
      "Requirement already satisfied: pillow>=8 in c:\\users\\g_man\\appdata\\local\\programs\\python\\python311\\lib\\site-packages (from matplotlib!=3.6.1,>=3.4->seaborn) (11.1.0)\n",
      "Requirement already satisfied: pyparsing>=2.3.1 in c:\\users\\g_man\\appdata\\local\\programs\\python\\python311\\lib\\site-packages (from matplotlib!=3.6.1,>=3.4->seaborn) (3.2.1)\n",
      "Requirement already satisfied: python-dateutil>=2.7 in c:\\users\\g_man\\appdata\\local\\programs\\python\\python311\\lib\\site-packages (from matplotlib!=3.6.1,>=3.4->seaborn) (2.8.2)\n",
      "Requirement already satisfied: pytz>=2020.1 in c:\\users\\g_man\\appdata\\local\\programs\\python\\python311\\lib\\site-packages (from pandas>=1.2->seaborn) (2023.3.post1)\n",
      "Requirement already satisfied: tzdata>=2022.1 in c:\\users\\g_man\\appdata\\local\\programs\\python\\python311\\lib\\site-packages (from pandas>=1.2->seaborn) (2023.3)\n",
      "Requirement already satisfied: six>=1.5 in c:\\users\\g_man\\appdata\\local\\programs\\python\\python311\\lib\\site-packages (from python-dateutil>=2.7->matplotlib!=3.6.1,>=3.4->seaborn) (1.16.0)\n"
     ]
    },
    {
     "name": "stderr",
     "output_type": "stream",
     "text": [
      "\n",
      "[notice] A new release of pip is available: 24.2 -> 25.0\n",
      "[notice] To update, run: python.exe -m pip install --upgrade pip\n"
     ]
    },
    {
     "name": "stdout",
     "output_type": "stream",
     "text": [
      "Requirement already satisfied: pandas in c:\\users\\g_man\\appdata\\local\\programs\\python\\python311\\lib\\site-packages (2.1.3)\n",
      "Requirement already satisfied: numpy<2,>=1.23.2 in c:\\users\\g_man\\appdata\\local\\programs\\python\\python311\\lib\\site-packages (from pandas) (1.26.2)\n",
      "Requirement already satisfied: python-dateutil>=2.8.2 in c:\\users\\g_man\\appdata\\local\\programs\\python\\python311\\lib\\site-packages (from pandas) (2.8.2)\n",
      "Requirement already satisfied: pytz>=2020.1 in c:\\users\\g_man\\appdata\\local\\programs\\python\\python311\\lib\\site-packages (from pandas) (2023.3.post1)\n",
      "Requirement already satisfied: tzdata>=2022.1 in c:\\users\\g_man\\appdata\\local\\programs\\python\\python311\\lib\\site-packages (from pandas) (2023.3)\n",
      "Requirement already satisfied: six>=1.5 in c:\\users\\g_man\\appdata\\local\\programs\\python\\python311\\lib\\site-packages (from python-dateutil>=2.8.2->pandas) (1.16.0)\n"
     ]
    },
    {
     "name": "stderr",
     "output_type": "stream",
     "text": [
      "\n",
      "[notice] A new release of pip is available: 24.2 -> 25.0\n",
      "[notice] To update, run: python.exe -m pip install --upgrade pip\n"
     ]
    },
    {
     "name": "stdout",
     "output_type": "stream",
     "text": [
      "Requirement already satisfied: numpy in c:\\users\\g_man\\appdata\\local\\programs\\python\\python311\\lib\\site-packages (1.26.2)\n"
     ]
    },
    {
     "name": "stderr",
     "output_type": "stream",
     "text": [
      "\n",
      "[notice] A new release of pip is available: 24.2 -> 25.0\n",
      "[notice] To update, run: python.exe -m pip install --upgrade pip\n"
     ]
    },
    {
     "name": "stdout",
     "output_type": "stream",
     "text": [
      "Requirement already satisfied: pyspark in c:\\users\\g_man\\appdata\\local\\programs\\python\\python311\\lib\\site-packages (3.5.4)\n",
      "Requirement already satisfied: py4j==0.10.9.7 in c:\\users\\g_man\\appdata\\local\\programs\\python\\python311\\lib\\site-packages (from pyspark) (0.10.9.7)\n"
     ]
    },
    {
     "name": "stderr",
     "output_type": "stream",
     "text": [
      "\n",
      "[notice] A new release of pip is available: 24.2 -> 25.0\n",
      "[notice] To update, run: python.exe -m pip install --upgrade pip\n"
     ]
    }
   ],
   "source": [
    "!pip install matplotlib\n",
    "!pip install seaborn\n",
    "!pip install pandas\n",
    "!pip install numpy\n",
    "!pip install pyspark"
   ]
  },
  {
   "cell_type": "code",
   "execution_count": 10,
   "metadata": {},
   "outputs": [
    {
     "name": "stdout",
     "output_type": "stream",
     "text": [
      "      tconst     nconst        primaryName  category titleType  \\\n",
      "0  tt0000009  nm0183823  William Courtenay     actor     movie   \n",
      "1  tt0000009  nm1309758     Chauncey Depew     actor     movie   \n",
      "2  tt0000009  nm0063086    Blanche Bayliss   actress     movie   \n",
      "3  tt0000009  nm0085156    Alexander Black  director     movie   \n",
      "4  tt0000574  nm0846894          John Tait     actor     movie   \n",
      "\n",
      "                  primaryTitle  isAdult  releaseYear  releaseMonth  \\\n",
      "0                   Miss Jerry        0         1894            10   \n",
      "1                   Miss Jerry        0         1894            10   \n",
      "2                   Miss Jerry        0         1894            10   \n",
      "3                   Miss Jerry        0         1894            10   \n",
      "4  The Story of the Kelly Gang        0         1906            12   \n",
      "\n",
      "  releaseDate  ...  tmdb_averageRating  tmdb_numVotes  revenue  budget  \\\n",
      "0  1894-10-08  ...               5.000              3        0       0   \n",
      "1  1894-10-08  ...               5.000              3        0       0   \n",
      "2  1894-10-08  ...               5.000              3        0       0   \n",
      "3  1894-10-08  ...               5.000              3        0       0   \n",
      "4  1906-12-26  ...               5.397             29        0       0   \n",
      "\n",
      "   popularity  weighted_averageRating  total_numVotes  bayesian_averageRating  \\\n",
      "0       0.748                5.394570           221.0                6.033430   \n",
      "1       0.748                5.394570           221.0                6.033430   \n",
      "2       0.748                5.394570           221.0                6.033430   \n",
      "3       0.748                5.394570           221.0                6.033430   \n",
      "4       2.160                5.982478           998.0                6.041644   \n",
      "\n",
      "   profit_ratio  aaa_index  \n",
      "0           0.0   4.616837  \n",
      "1           0.0   4.616837  \n",
      "2           0.0   4.616837  \n",
      "3           0.0   4.616837  \n",
      "4           0.0   5.470080  \n",
      "\n",
      "[5 rows x 23 columns]\n"
     ]
    }
   ],
   "source": [
    "import pandas as pd\n",
    "import numpy as np\n",
    "import matplotlib.pyplot as plt\n",
    "import seaborn as sns\n",
    "import sqlite3 \n",
    "\n",
    "cast_path = \"../data/actor_actress_director.csv\"\n",
    "cast_df = pd.read_csv(\n",
    "    cast_path,\n",
    "    low_memory=False\n",
    ")\n",
    "\n",
    "conn = sqlite3.connect('../data/cast.db')\n",
    "\n",
    "cast_df.to_sql('actor_actress_director', conn, index=False, if_exists='replace')\n",
    "\n",
    "result = pd.read_sql_query(\"select * from actor_actress_director limit 5;\", conn)\n",
    "print(result)\n",
    "\n",
    "conn.close()"
   ]
  },
  {
   "cell_type": "code",
   "execution_count": 11,
   "metadata": {},
   "outputs": [
    {
     "name": "stdout",
     "output_type": "stream",
     "text": [
      "tconst                     object\n",
      "nconst                     object\n",
      "primaryName                object\n",
      "category                   object\n",
      "titleType                  object\n",
      "primaryTitle               object\n",
      "isAdult                     int64\n",
      "releaseYear                 int64\n",
      "releaseMonth                int64\n",
      "releaseDate                object\n",
      "runtime_consolidated      float64\n",
      "imdb_averageRating        float64\n",
      "imdb_numVotes             float64\n",
      "tmdb_averageRating        float64\n",
      "tmdb_numVotes               int64\n",
      "revenue                     int64\n",
      "budget                      int64\n",
      "popularity                float64\n",
      "weighted_averageRating    float64\n",
      "total_numVotes            float64\n",
      "bayesian_averageRating    float64\n",
      "profit_ratio              float64\n",
      "aaa_index                 float64\n",
      "dtype: object\n"
     ]
    }
   ],
   "source": [
    "print(cast_df.dtypes)"
   ]
  },
  {
   "cell_type": "code",
   "execution_count": 18,
   "metadata": {},
   "outputs": [
    {
     "name": "stdout",
     "output_type": "stream",
     "text": [
      "       primaryName  category  num_starred_movies  rn\n",
      "0     Eric Roberts     actor                  14   1\n",
      "1      Sheri Davis   actress                  10   1\n",
      "2  Dustin Ferguson  director                  12   1\n"
     ]
    }
   ],
   "source": [
    "# Find the most active actors, actresses, and directors in 2020\n",
    "\n",
    "conn = sqlite3.connect('../data/cast.db')\n",
    "\n",
    "active_cast_query = \"\"\"\n",
    "    with base as (\n",
    "        select\n",
    "            primaryName,\n",
    "            nconst,\n",
    "            category,\n",
    "            count(distinct tconst) as num_starred_movies\n",
    "        from actor_actress_director\n",
    "        where 1=1\n",
    "            and releaseYear = 2020\n",
    "        group by 1,2,3\n",
    "    )\n",
    "\n",
    "    select\n",
    "        primaryName,\n",
    "        category,\n",
    "        num_starred_movies,\n",
    "        rn\n",
    "    from (\n",
    "        select\n",
    "            primaryName,\n",
    "            category,\n",
    "            num_starred_movies,\n",
    "            row_number() over (partition by category order by num_starred_movies desc) as rn\n",
    "        from base\n",
    "    )\n",
    "    where 1=1\n",
    "        and rn = 1\n",
    "    order by 2, 3 desc\n",
    "\"\"\"\n",
    "\n",
    "active_cast_result = pd.read_sql(active_cast_query, conn)\n",
    "print(active_cast_result)"
   ]
  },
  {
   "cell_type": "code",
   "execution_count": 13,
   "metadata": {},
   "outputs": [
    {
     "name": "stdout",
     "output_type": "stream",
     "text": [
      "       primaryName  category  avg_popularity\n",
      "0      Mike Hatton     actor         227.981\n",
      "1     Mara Fimbres   actress         227.981\n",
      "2  Christian Sesma  director         227.981\n"
     ]
    }
   ],
   "source": [
    "# find the most popular cast members in 2020 based on average popularity score\n",
    "\n",
    "popular_cast_query = \"\"\" \n",
    "    with base as (\n",
    "        select\n",
    "            primaryName,\n",
    "            nconst,\n",
    "            category,\n",
    "            avg(popularity) as avg_popularity\n",
    "        from actor_actress_director\n",
    "        where 1=1\n",
    "            and releaseYear = 2020\n",
    "            and popularity > 0\n",
    "        group by 1,2,3\n",
    "    )\n",
    "\n",
    "    select\n",
    "        primaryName,\n",
    "        category,\n",
    "        avg_popularity\n",
    "    from (\n",
    "        select\n",
    "            primaryName,\n",
    "            category,\n",
    "            avg_popularity,\n",
    "            row_number() over (partition by category order by avg_popularity desc) as rn\n",
    "        from base\n",
    "    )\n",
    "    where 1=1\n",
    "        and rn = 1\n",
    "    order by 2, 3 desc\n",
    "\"\"\"\n",
    "\n",
    "popular_cast_result = pd.read_sql(popular_cast_query, conn)\n",
    "print(popular_cast_result)"
   ]
  },
  {
   "cell_type": "code",
   "execution_count": 14,
   "metadata": {},
   "outputs": [
    {
     "name": "stdout",
     "output_type": "stream",
     "text": [
      "         primaryName  category  total_votes\n",
      "0    Rich Ceraulo Ko     actor     635705.0\n",
      "1  Elizabeth Debicki   actress     629342.0\n",
      "2  Christopher Nolan  director     629342.0\n"
     ]
    }
   ],
   "source": [
    "# find the most popular cast members in 2020 based on total review votes\n",
    "\n",
    "votes_cast_query = \"\"\"\n",
    "    with base as (\n",
    "        select\n",
    "            primaryName,\n",
    "            nconst,\n",
    "            category,\n",
    "            sum(total_numVotes) as total_votes\n",
    "        from actor_actress_director\n",
    "        where 1=1 \n",
    "            and releaseYear = 2020\n",
    "        group by 1,2,3\n",
    "    )\n",
    "\n",
    "    select\n",
    "        primaryName,\n",
    "        category,\n",
    "        total_votes\n",
    "    from (\n",
    "        select\n",
    "            primaryName,\n",
    "            category,\n",
    "            total_votes,\n",
    "            row_number() over (partition by category order by total_votes desc) as rn\n",
    "        from base\n",
    "    )\n",
    "    where 1=1\n",
    "        and rn = 1\n",
    "    order by 2, 3 desc\n",
    "\"\"\"\n",
    "\n",
    "votes_cast_result = pd.read_sql(votes_cast_query, conn)\n",
    "print(votes_cast_result)"
   ]
  },
  {
   "cell_type": "code",
   "execution_count": 20,
   "metadata": {},
   "outputs": [
    {
     "name": "stdout",
     "output_type": "stream",
     "text": [
      "          primaryName  category  total_votes\n",
      "0           John Cena     actor    5535238.0\n",
      "1        Ben Schwartz     actor    4911249.0\n",
      "2          Kevin Hart     actor    4788110.0\n",
      "3          Greg Kriek     actor    4475402.0\n",
      "4      Brandon Morgan     actor    4462665.0\n",
      "5   Nathalie Emmanuel   actress    4917573.0\n",
      "6      Melissa Ponzio   actress    4526872.0\n",
      "7       Alon McKlveen   actress    4464802.0\n",
      "8          Paula Pell   actress    4462665.0\n",
      "9             Zendaya   actress    2667839.0\n",
      "10         Eric Appel  director    4513363.0\n",
      "11   Denis Villeneuve  director    1534484.0\n",
      "12  Christopher Nolan  director    1479970.0\n",
      "13         Shawn Levy  director    1167155.0\n",
      "14          Jon Watts  director     949383.0\n"
     ]
    }
   ],
   "source": [
    "lt_votes_cast_query = \"\"\"\n",
    "    with base as (\n",
    "        select\n",
    "            primaryName,\n",
    "            nconst,\n",
    "            category,\n",
    "            sum(total_numVotes) as total_votes\n",
    "        from actor_actress_director\n",
    "        where 1=1 \n",
    "            and releaseYear between 2020 and 2025\n",
    "        group by 1,2,3\n",
    "    )\n",
    "\n",
    "    select\n",
    "        primaryName,\n",
    "        category,\n",
    "        total_votes\n",
    "    from (\n",
    "        select\n",
    "            primaryName,\n",
    "            category,\n",
    "            total_votes,\n",
    "            row_number() over (partition by category order by total_votes desc) as rn\n",
    "        from base\n",
    "    )\n",
    "    where 1=1\n",
    "        and rn between 1 and 5\n",
    "    order by 2, 3 desc\n",
    "\"\"\"\n",
    "\n",
    "lt_votes_cast_result = pd.read_sql(lt_votes_cast_query, conn)\n",
    "print(lt_votes_cast_result)"
   ]
  },
  {
   "cell_type": "code",
   "execution_count": 16,
   "metadata": {},
   "outputs": [],
   "source": [
    "conn.close()"
   ]
  }
 ],
 "metadata": {
  "kernelspec": {
   "display_name": "Python 3",
   "language": "python",
   "name": "python3"
  },
  "language_info": {
   "codemirror_mode": {
    "name": "ipython",
    "version": 3
   },
   "file_extension": ".py",
   "mimetype": "text/x-python",
   "name": "python",
   "nbconvert_exporter": "python",
   "pygments_lexer": "ipython3",
   "version": "3.11.5"
  }
 },
 "nbformat": 4,
 "nbformat_minor": 2
}
